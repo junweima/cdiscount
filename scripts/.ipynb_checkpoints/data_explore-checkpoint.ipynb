{
 "cells": [
  {
   "cell_type": "code",
   "execution_count": 1,
   "metadata": {},
   "outputs": [
    {
     "name": "stdout",
     "output_type": "stream",
     "text": [
      "train_example.bson\n",
      "\n"
     ]
    }
   ],
   "source": [
    "# This Python 3 environment comes with many helpful analytics libraries installed\n",
    "# It is defined by the kaggle/python docker image: https://github.com/kaggle/docker-python\n",
    "# For example, here's several helpful packages to load in \n",
    "\n",
    "import numpy as np # linear algebra\n",
    "import pandas as pd # data processing, CSV file I/O (e.g. pd.read_csv)\n",
    "\n",
    "# Input data files are available in the \"../input/\" directory.\n",
    "# For example, running this (by clicking run or pressing Shift+Enter) will list the files in the input directory\n",
    "\n",
    "from subprocess import check_output\n",
    "print(check_output([\"ls\", \"../input\"]).decode(\"utf8\"))\n",
    "\n",
    "# Any results you write to the current directory are saved as output."
   ]
  },
  {
   "cell_type": "code",
   "execution_count": 2,
   "metadata": {
    "collapsed": true
   },
   "outputs": [],
   "source": [
    "import io\n",
    "import bson                       # this is installed with the pymongo package\n",
    "import matplotlib.pyplot as plt\n",
    "from skimage.data import imread   # or, whatever image library you prefer\n",
    "import multiprocessing as mp      # will come in handy due to the size of the data"
   ]
  },
  {
   "cell_type": "code",
   "execution_count": 3,
   "metadata": {
    "collapsed": true
   },
   "outputs": [],
   "source": [
    "# Simple data processing\n",
    "\n",
    "data = bson.decode_file_iter(open('../input/train_example.bson', 'rb'))\n",
    "\n",
    "prod_to_category = dict()\n",
    "\n",
    "for c, d in enumerate(data):\n",
    "    product_id = d['_id']\n",
    "    category_id = d['category_id'] # This won't be in Test data\n",
    "    prod_to_category[product_id] = category_id\n",
    "    for e, pic in enumerate(d['imgs']):\n",
    "        picture = imread(io.BytesIO(pic['picture']))\n",
    "        # do something with the picture, etc\n",
    "\n",
    "prod_to_category = pd.DataFrame.from_dict(prod_to_category, orient='index')\n",
    "prod_to_category.index.name = '_id'\n",
    "prod_to_category.rename(columns={0: 'category_id'}, inplace=True)"
   ]
  },
  {
   "cell_type": "code",
   "execution_count": 14,
   "metadata": {},
   "outputs": [],
   "source": []
  },
  {
   "cell_type": "code",
   "execution_count": 4,
   "metadata": {
    "scrolled": true
   },
   "outputs": [
    {
     "data": {
      "text/html": [
       "<div>\n",
       "<style>\n",
       "    .dataframe thead tr:only-child th {\n",
       "        text-align: right;\n",
       "    }\n",
       "\n",
       "    .dataframe thead th {\n",
       "        text-align: left;\n",
       "    }\n",
       "\n",
       "    .dataframe tbody tr th {\n",
       "        vertical-align: top;\n",
       "    }\n",
       "</style>\n",
       "<table border=\"1\" class=\"dataframe\">\n",
       "  <thead>\n",
       "    <tr style=\"text-align: right;\">\n",
       "      <th></th>\n",
       "      <th>category_id</th>\n",
       "    </tr>\n",
       "    <tr>\n",
       "      <th>_id</th>\n",
       "      <th></th>\n",
       "    </tr>\n",
       "  </thead>\n",
       "  <tbody>\n",
       "    <tr>\n",
       "      <th>0</th>\n",
       "      <td>1000010653</td>\n",
       "    </tr>\n",
       "    <tr>\n",
       "      <th>1</th>\n",
       "      <td>1000010653</td>\n",
       "    </tr>\n",
       "    <tr>\n",
       "      <th>2</th>\n",
       "      <td>1000004079</td>\n",
       "    </tr>\n",
       "    <tr>\n",
       "      <th>3</th>\n",
       "      <td>1000004141</td>\n",
       "    </tr>\n",
       "    <tr>\n",
       "      <th>4</th>\n",
       "      <td>1000015539</td>\n",
       "    </tr>\n",
       "  </tbody>\n",
       "</table>\n",
       "</div>"
      ],
      "text/plain": [
       "     category_id\n",
       "_id             \n",
       "0     1000010653\n",
       "1     1000010653\n",
       "2     1000004079\n",
       "3     1000004141\n",
       "4     1000015539"
      ]
     },
     "execution_count": 4,
     "metadata": {},
     "output_type": "execute_result"
    }
   ],
   "source": [
    "prod_to_category.head()"
   ]
  },
  {
   "cell_type": "code",
   "execution_count": 5,
   "metadata": {},
   "outputs": [
    {
     "data": {
      "image/png": "[encoded data removed]",
      "text/plain": [
       "<matplotlib.figure.Figure at 0x20cf4305a90>"
      ]
     },
     "metadata": {},
     "output_type": "display_data"
    }
   ],
   "source": [
    "plt.imshow(picture)\n",
    "plt.show()"
   ]
  },
  {
   "cell_type": "code",
   "execution_count": null,
   "metadata": {
    "collapsed": true
   },
   "outputs": [],
   "source": [
    "NCORE =  8\n",
    "\n",
    "prod_to_category = mp.Manager().dict() # note the difference\n",
    "\n",
    "def process(q, iolock):\n",
    "    while True:\n",
    "        d = q.get()\n",
    "        if d is None:\n",
    "            break\n",
    "        product_id = d['_id']\n",
    "        category_id = d['category_id']\n",
    "        prod_to_category[product_id] = category_id\n",
    "        for e, pic in enumerate(d['imgs']):\n",
    "            picture = imread(io.BytesIO(pic['picture']))\n",
    "            # do something with the picture, etc\n",
    "    \n",
    "q = mp.Queue(maxsize=NCORE)\n",
    "iolock = mp.Lock()\n",
    "pool = mp.Pool(NCORE, initializer=process, initargs=(q, iolock))\n",
    "\n",
    "# process the file\n",
    "\n",
    "data = bson.decode_file_iter(open('../input/train_example.bson', 'rb'))\n",
    "for c, d in enumerate(data):\n",
    "    q.put(d)  # blocks until q below its max size\n",
    "\n",
    "# tell workers we're done\n",
    "\n",
    "for _ in range(NCORE):  \n",
    "    q.put(None)\n",
    "pool.close()\n",
    "pool.join()\n",
    "\n",
    "# convert back to normal dictionary\n",
    "prod_to_category = dict(prod_to_category)\n",
    "\n",
    "prod_to_category = pd.DataFrame.from_dict(prod_to_category, orient='index')\n",
    "prod_to_category.index.name = '_id'\n",
    "prod_to_category.rename(columns={0: 'category_id'}, inplace=True)"
   ]
  },
  {
   "cell_type": "code",
   "execution_count": null,
   "metadata": {
    "collapsed": true
   },
   "outputs": [],
   "source": [
    "prod_to_category.head()"
   ]
  },
  {
   "cell_type": "code",
   "execution_count": null,
   "metadata": {
    "collapsed": true
   },
   "outputs": [],
   "source": []
  }
 ],
 "metadata": {
  "kernelspec": {
   "display_name": "Python 3",
   "language": "python",
   "name": "python3"
  },
  "language_info": {
   "codemirror_mode": {
    "name": "ipython",
    "version": 3
   },
   "file_extension": ".py",
   "mimetype": "text/x-python",
   "name": "python",
   "nbconvert_exporter": "python",
   "pygments_lexer": "ipython3",
   "version": "3.5.2"
  }
 },
 "nbformat": 4,
 "nbformat_minor": 2
}
